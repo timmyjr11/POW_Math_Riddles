{
 "cells": [
  {
   "cell_type": "code",
   "execution_count": 153,
   "metadata": {
    "collapsed": true
   },
   "outputs": [
    {
     "name": "stdout",
     "output_type": "stream",
     "text": [
      "General function: ((50(2(m)+5)+a)-365)+115\n",
      "Distribute: ((100m+250+a)-365)+115\n",
      "Subtract constants: 100m + a - 115 + 115\n",
      "Cancel out constants: 100m + a\n",
      "Simplified function: 100m + a\n",
      "m = month, a = age\n"
     ]
    }
   ],
   "source": [
    "# Multiplies birth month by two, then adds 5,\n",
    "# then multiplies by 50, then adds 17,\n",
    "# then subtracts 365, then adds 115\n",
    "print(\"General function: ((50(2(m)+5)+a)-365)+115\")\n",
    "print(\"Distribute: ((100m+250+a)-365)+115\")\n",
    "print(\"Subtract constants: 100m + a - 115 + 115\")\n",
    "print(\"Cancel out constants: 100m + a\")\n",
    "print(\"Simplified function: 100m + a\")\n",
    "print(\"m = month, a = age\")"
   ]
  },
  {
   "cell_type": "code",
   "execution_count": 142,
   "outputs": [
    {
     "name": "stdout",
     "output_type": "stream",
     "text": [
      "Upper Left : [3, 2, 4, 1]\n",
      "Upper Middle Left: [2, 3, 1, 4]\n",
      "Lower Middle Right: [9, 6]\n",
      "Bottom Right: [6, 9]\n",
      "Lower Middle Left: [5, 2, 4, 7]\n",
      "Bottom Left: [4, 7, 5, 2]\n",
      "Upper Right: [7, 5, 1, 3]\n",
      "Upper Middle Right: [1, 3, 7, 5]\n",
      "51598\n"
     ]
    }
   ],
   "source": [
    "import random\n",
    "\n",
    "# Starting dictionary and variable\n",
    "quad = {\"upper_left\" : int, \"upper_middle_left\": int, \"lower_middle_right\": int, \"bottom_right\": int,\n",
    "        \"lower_middle_left\": int, \"bottom_left\": int, \"upper_right\": int, \"upper_middle_right\": int}\n",
    "completed_rotations = 0\n",
    "upper_left_list, upper_middle_left_list, lower_middle_right_list, bottom_right_list = [], [], [], []\n",
    "lower_middle_left_list, bottom_left_list, upper_right_list, upper_middle_right_list = [], [], [], []\n",
    "\n",
    "# Runs until the correct number was found 15 times\n",
    "while completed_rotations != 15:\n",
    "    answer = 0\n",
    "    # While loop that runs until desired number is met\n",
    "    while answer != \"51598\":\n",
    "        # Creates two arrays, one being a copy to use in for loop\n",
    "        numbers = [1, 2, 3, 4, 5, 6, 7, 8, 9]\n",
    "        copy = numbers.copy()\n",
    "\n",
    "        # For every key in dictionary, give random value from\n",
    "        # 1 - 9 then remove given value from copy of numbers\n",
    "        for i in quad:\n",
    "            quad[i] = random.choice(copy)\n",
    "            copy.remove(quad[i])\n",
    "\n",
    "        # Add numbers in a specified order then concatenate the casted strings together,\n",
    "        # ending the while loop if the answer matches the reqired value\n",
    "        answer = str(quad[\"upper_left\"] + quad[\"upper_middle_left\"]) + str(quad[\"lower_middle_right\"] + quad[\"bottom_right\"])\\\n",
    "                 + str(quad[\"lower_middle_left\"] + quad[\"bottom_left\"]) + str(quad[\"upper_right\"] + quad[\"upper_middle_right\"])\n",
    "\n",
    "    # Checks if the number is already in the list of values\n",
    "    # if not, add the value to the list\n",
    "    if quad[\"upper_left\"] not in upper_left_list:\n",
    "        upper_left_list.append(quad[\"upper_left\"])\n",
    "    if quad[\"upper_middle_left\"] not in upper_middle_left_list:\n",
    "        upper_middle_left_list.append(quad[\"upper_middle_left\"])\n",
    "    if quad[\"lower_middle_right\"] not in lower_middle_right_list:\n",
    "        lower_middle_right_list.append(quad[\"lower_middle_right\"])\n",
    "    if quad[\"bottom_right\"] not in bottom_right_list:\n",
    "        bottom_right_list.append(quad[\"bottom_right\"])\n",
    "    if quad[\"lower_middle_left\"] not in lower_middle_left_list:\n",
    "        lower_middle_left_list.append(quad[\"lower_middle_left\"])\n",
    "    if quad[\"bottom_left\"] not in bottom_left_list:\n",
    "            bottom_left_list.append(quad[\"bottom_left\"])\n",
    "    if quad[\"upper_right\"] not in upper_right_list:\n",
    "        upper_right_list.append(quad[\"upper_right\"])\n",
    "    if quad[\"upper_middle_right\"] not in upper_middle_right_list:\n",
    "        upper_middle_right_list.append(quad[\"upper_middle_right\"])\n",
    "\n",
    "    # Adds one to the completed_rotations\n",
    "    completed_rotations += 1\n",
    "\n",
    "# Print each value and print the final answer\n",
    "print(f\"Upper Left : {upper_left_list}\")\n",
    "print(f\"Upper Middle Left: {upper_middle_left_list}\")\n",
    "print(f\"Lower Middle Right: {lower_middle_right_list}\")\n",
    "print(f\"Bottom Right: {bottom_right_list}\")\n",
    "print(f\"Lower Middle Left: {lower_middle_left_list}\")\n",
    "print(f\"Bottom Left: {bottom_left_list}\")\n",
    "print(f\"Upper Right: {upper_right_list}\")\n",
    "print(f\"Upper Middle Right: {upper_middle_right_list}\")\n",
    "print(answer)\n",
    "\n",
    "\n",
    "\n",
    "    "
   ],
   "metadata": {
    "collapsed": false,
    "pycharm": {
     "name": "#%%\n"
    }
   }
  }
 ],
 "metadata": {
  "kernelspec": {
   "display_name": "Python 3",
   "language": "python",
   "name": "python3"
  },
  "language_info": {
   "codemirror_mode": {
    "name": "ipython",
    "version": 2
   },
   "file_extension": ".py",
   "mimetype": "text/x-python",
   "name": "python",
   "nbconvert_exporter": "python",
   "pygments_lexer": "ipython2",
   "version": "2.7.6"
  }
 },
 "nbformat": 4,
 "nbformat_minor": 0
}